{
 "cells": [
  {
   "cell_type": "code",
   "execution_count": null,
   "metadata": {},
   "outputs": [],
   "source": [
    "import torch\n",
    "from torch.utils.data import Dataset\n",
    "from torchvision.transforms import v2"
   ]
  },
  {
   "cell_type": "code",
   "execution_count": null,
   "metadata": {},
   "outputs": [],
   "source": [
    "from pathlib import Path\n",
    "import shutil\n",
    "import tqdm\n",
    "from ultralytics import YOLO\n",
    "from sklearn.model_selection import train_test_split\n",
    "import matplotlib.pyplot as plt\n",
    "import matplotlib.pyplot as plt\n",
    "import matplotlib.patches as patches\n",
    "from typing import Union\n",
    "import os\n",
    "\n"
   ]
  },
  {
   "cell_type": "code",
   "execution_count": null,
   "metadata": {},
   "outputs": [],
   "source": [
    "device = (\n",
    "    \"cuda\"\n",
    "    if torch.cuda.is_available()\n",
    "    else \"mps\"\n",
    "    if torch.backends.mps.is_available()\n",
    "    else \"cpu\"\n",
    ")\n",
    "print(f\"Using {device} device\")\n"
   ]
  },
  {
   "cell_type": "code",
   "execution_count": null,
   "metadata": {},
   "outputs": [],
   "source": [
    "lidar_images = Path(\"/cluster/projects/vc/data/ad/open/Poles\")"
   ]
  },
  {
   "cell_type": "code",
   "execution_count": null,
   "metadata": {},
   "outputs": [],
   "source": [
    "\n",
    "def print_directory_structure(startpath):\n",
    "    for root, dirs, files in os.walk(startpath):\n",
    "        level = root.replace(startpath, '').count(os.sep)\n",
    "        indent = ' ' * 4 * level\n",
    "        print(f'{indent}{os.path.basename(root)}/')\n",
    "        subindent = ' ' * 4 * (level + 1)\n",
    "        for f in files:\n",
    "            print(f'{subindent}{f}')\n",
    "            break\n",
    "\n",
    "print_directory_structure(str(lidar_images))\n"
   ]
  },
  {
   "cell_type": "code",
   "execution_count": null,
   "metadata": {},
   "outputs": [],
   "source": [
    "model = YOLO(\"yolo11s.pt\")"
   ]
  },
  {
   "cell_type": "code",
   "execution_count": null,
   "metadata": {},
   "outputs": [],
   "source": [
    "if not (Path.cwd() / \"data\").exists():\n",
    "    tqdm.tqdm(shutil.copytree(lidar_images, Path.cwd() / \"data\"))\n",
    "    print(f\"Files copied to {Path.cwd() / 'data'}\")\n",
    "else:\n",
    "    print(f\"Files already present in {Path.cwd() / 'data'}\")"
   ]
  },
  {
   "cell_type": "code",
   "execution_count": null,
   "metadata": {},
   "outputs": [],
   "source": [
    "img_path = \"data/test/images/combined_image_5_png.rf.9372598b5abf9cfff473ec530fdbf7be.jpg\"\n",
    "coord_path = \"data/test/labels/combined_image_5_png.rf.9372598b5abf9cfff473ec530fdbf7be.txt\"\n",
    "\n",
    "double_coords_path = \"data/test/labels/combined_image_13_png.rf.7390c64ced5859039424843ebf4207f9.txt\""
   ]
  },
  {
   "cell_type": "code",
   "execution_count": null,
   "metadata": {},
   "outputs": [],
   "source": [
    "#this only works for files with a single line of coordinates\n",
    "\n",
    "def get_coords(file_path):\n",
    "    with open(file_path, 'r') as file:\n",
    "        file_contents = file.read()\n",
    "        \n",
    "        \n",
    "    if \"\\n\" in file_contents:\n",
    "        # print(f\"File {file_path} contains multiple lines of coordinates\")\n",
    "        file_contents = file_contents.split(\"\\n\")\n",
    "        # print(f\"file_contents: {file_contents}\")\n",
    "        for i, index in enumerate(file_contents):\n",
    "            file_contents[i] = index.split(\" \")\n",
    "            for j, index2 in enumerate(file_contents[i]):\n",
    "                file_contents[i][j] = float(index2)\n",
    "        return file_contents\n",
    "    else:    \n",
    "        file_contents = file_contents.split(\" \")\n",
    "        for i, index in enumerate(file_contents):\n",
    "            file_contents[i] = float(index)\n",
    "        return [file_contents, None]\n",
    "\n",
    "\n",
    "print(f\"Function output:\\n{get_coords(coord_path)}\")\n",
    "print(f\"Function output:\\n{get_coords(double_coords_path)}\")\n",
    "\n",
    "print(f\"Expected coords:\\n0 0.42138671875 0.74609375 0.0068359375 0.2421875\\n0 0.5244140625 0.6484375 0.00537109375 0.1640625\")"
   ]
  },
  {
   "cell_type": "code",
   "execution_count": null,
   "metadata": {},
   "outputs": [],
   "source": [
    "def show_boxes(image, box_coords):\n",
    "    \n",
    "    # print(f\"Box coords: {box_coords}\")\n",
    "    fig, ax = plt.subplots()\n",
    "    for i, box in enumerate(box_coords):\n",
    "        # print(f\"Box {i}: {box}\")\n",
    "        if box is None:\n",
    "            # print(\"Finished printing rectangles\")\n",
    "            pass\n",
    "        else:\n",
    "            # print(i)\n",
    "            _, x_center, y_center, width, height = box\n",
    "            \n",
    "            # print(f\"Image shape: {image.shape[:2]}\")\n",
    "            img_height, img_width = image.shape[:2]\n",
    "            \n",
    "            \n",
    "            # print(f\"Box coordinates:  x_center: {x_center}, y_center: {y_center}, width: {width}, height: {height}\")\n",
    "            # print(f\"Type: {type(x_center)}\")\n",
    "\n",
    "            x_center *= img_width\n",
    "            y_center *= img_height\n",
    "            width *= img_width\n",
    "            height *= img_height\n",
    "            \n",
    "            # print(f\"Box coordinates:  x_center: {x_center}, y_center: {y_center}, width: {width}, height: {height}\")\n",
    "            x1 = x_center - width / 2\n",
    "            y1 = y_center - height / 2\n",
    "            \n",
    "            rect = patches.Rectangle((x1, y1), width, height, linewidth=1, edgecolor='r', facecolor='none')\n",
    "            \n",
    "            ax.add_patch(rect)\n",
    "    \n",
    "    ax.set_xlim(0, img_width)\n",
    "    ax.set_ylim(img_height, 0)\n",
    "    plt.imshow(image)\n",
    "    \n",
    "    plt.pause(0.001)\n",
    "    \n",
    "show_boxes(plt.imread(img_path), get_coords(double_coords_path))\n",
    "print(f\"Image shape: {plt.imread(img_path).shape}\")"
   ]
  },
  {
   "cell_type": "code",
   "execution_count": null,
   "metadata": {},
   "outputs": [],
   "source": [
    "class LidarDataset(Dataset):\n",
    "    \"\"\"Custom dataset for LiDAR images\"\"\"\n",
    "    \n",
    "    def __init__(self, img_dir:Union[Path, str], coord_dir:Union[Path, str], transform=None):\n",
    "        \n",
    "        self.img_dir = img_dir\n",
    "        self.coord_dir = coord_dir\n",
    "        self.transform = transform\n",
    "        \n",
    "        self.images = sorted(os.listdir(img_dir))\n",
    "        self.coords = sorted(os.listdir(coord_dir))\n",
    "        if len(self.images) != len(self.coords):\n",
    "            raise ValueError(\"Number of images and coordinates do not match\")\n",
    "    \n",
    "    def __len__(self):\n",
    "        return len(self.images)\n",
    "    \n",
    "    def __getitem__(self, idx):\n",
    "        \n",
    "        if torch.is_tensor(idx):\n",
    "            idx = idx.tolist()\n",
    "        \n",
    "        img_path = os.path.join(self.img_dir, self.images[idx])\n",
    "        coord_path = os.path.join(self.coord_dir, self.coords[idx])\n",
    "        \n",
    "        image = plt.imread(img_path)\n",
    "        coords = get_coords(coord_path)\n",
    "        \n",
    "        if coords[-1] == None:\n",
    "            coords = coords[:-1]\n",
    "        \n",
    "        if self.transform:\n",
    "            image = self.transform(image)\n",
    "        \n",
    "        print(f\"Image path: {img_path}\")\n",
    "        print(f\"Coord path: {coord_path}\")\n",
    "        return image, coords"
   ]
  },
  {
   "cell_type": "code",
   "execution_count": null,
   "metadata": {},
   "outputs": [],
   "source": [
    "lidar_dataset = LidarDataset(Path(\"data/test/images\"), Path(\"data/test/labels\"))\n",
    "\n",
    "for i, sample in enumerate(lidar_dataset):\n",
    "    show_boxes(sample[0], sample[1])\n",
    "    if i == 5:\n",
    "        break"
   ]
  },
  {
   "cell_type": "code",
   "execution_count": null,
   "metadata": {},
   "outputs": [],
   "source": [
    "transforms = v2.Compose([\n",
    "    v2.Resize(size=(64, 512), antialias=True),\n",
    "    v2.RandomHorizontalFlip(p=0.5),\n",
    "    v2.ToDtype(torch.float32, scale=True),\n",
    "    v2.Normalize(mean=[0.485, 0.456, 0.406], std=[0.229, 0.224, 0.225]),\n",
    "]) "
   ]
  },
  {
   "cell_type": "code",
   "execution_count": null,
   "metadata": {},
   "outputs": [],
   "source": [
    "transformed_dataset = LidarDataset(Path(\"data/test/images\"), Path(\"data/test/labels\"), transform=transforms)\n",
    "\n",
    "for i, sample in enumerate(lidar_dataset):\n",
    "    show_boxes(sample[0], sample[1])\n",
    "    if i == 5:\n",
    "        break"
   ]
  },
  {
   "cell_type": "code",
   "execution_count": null,
   "metadata": {},
   "outputs": [],
   "source": [
    "del lidar_dataset\n",
    "del transformed_dataset"
   ]
  },
  {
   "cell_type": "code",
   "execution_count": null,
   "metadata": {},
   "outputs": [],
   "source": [
    "# Create validation folder if it doesn't exist\n",
    "# val_folder.mkdir(parents=True, exist_ok=True)\n",
    "\n",
    "DEBUG = False\n",
    "# Define the paths\n",
    "if DEBUG:\n",
    "    images_folder = Path(\"data/train/images\")\n",
    "    labels_folder = Path(\"data/train/labels\")\n",
    "    train_images_folder = Path(\"data/training/images\")\n",
    "    train_labels_folder = Path(\"data/training/labels\")\n",
    "    val_images_folder = Path(\"data/valid/images\")\n",
    "    val_labels_folder = Path(\"data/valid/labels\")\n",
    "\n",
    "    # Create directories if they don't exist\n",
    "    train_images_folder.mkdir(parents=True, exist_ok=True)\n",
    "    train_labels_folder.mkdir(parents=True, exist_ok=True)\n",
    "    val_images_folder.mkdir(parents=True, exist_ok=True)\n",
    "    val_labels_folder.mkdir(parents=True, exist_ok=True)\n",
    "\n",
    "    # Get list of all image and label files\n",
    "    image_files = sorted(images_folder.glob(\"*.jpg\")) \n",
    "    label_files = sorted(labels_folder.glob(\"*.txt\")) \n",
    "\n",
    "    # Ensure that the number of images and labels match\n",
    "    assert len(image_files) == len(label_files), \"Number of images and labels do not match\"\n",
    "\n",
    "    # Split the data into training and validation sets\n",
    "    train_images, val_images, train_labels, val_labels = train_test_split(\n",
    "        image_files, label_files, test_size=0.2, random_state=42\n",
    "    )\n",
    "\n",
    "    # Function to copy files to the respective directories\n",
    "    def copy_files(files, dest_folder):\n",
    "        for file in files:\n",
    "            shutil.copy(file, dest_folder)\n",
    "\n",
    "    # Copy the files to the respective directories\n",
    "    copy_files(train_images, train_images_folder)\n",
    "    copy_files(train_labels, train_labels_folder)\n",
    "    copy_files(val_images, val_images_folder)\n",
    "    copy_files(val_labels, val_labels_folder)\n",
    "\n",
    "    print(\"Data split and copied successfully.\")"
   ]
  },
  {
   "cell_type": "code",
   "execution_count": null,
   "metadata": {},
   "outputs": [],
   "source": [
    "model = YOLO(\"yolov10n.pt\")\n",
    "\n",
    "model.train(data=\"/cluster/home/jofa/tdt17/TDT17-mini-project/data/data.yaml\",\n",
    "                      epochs=1,\n",
    "                      batch=1,\n",
    "                      workers=1\n",
    "                      )\n",
    "model.val(batch=1,)\n"
   ]
  },
  {
   "cell_type": "code",
   "execution_count": null,
   "metadata": {},
   "outputs": [],
   "source": [
    "# data_yaml_path = Path.cwd() / \"data\" / \"data.yaml\"\n",
    "\n",
    "# if data_yaml_path.exists():\n",
    "# \ttry:\n",
    "# \t\tresults = model.train(data=str(data_yaml_path), epochs=3)\n",
    "# \texcept Exception as e:\n",
    "# \t\tprint(f\"An error occurred during training: {e}\")\n",
    "# else:\n",
    "# \tprint(f\"data.yaml file not found at {data_yaml_path}\")"
   ]
  },
  {
   "cell_type": "code",
   "execution_count": null,
   "metadata": {},
   "outputs": [],
   "source": [
    "# results = model.val()"
   ]
  }
 ],
 "metadata": {
  "kernelspec": {
   "display_name": "tdt17",
   "language": "python",
   "name": "python3"
  },
  "language_info": {
   "codemirror_mode": {
    "name": "ipython",
    "version": 3
   },
   "file_extension": ".py",
   "mimetype": "text/x-python",
   "name": "python",
   "nbconvert_exporter": "python",
   "pygments_lexer": "ipython3",
   "version": "3.11.10"
  }
 },
 "nbformat": 4,
 "nbformat_minor": 2
}
